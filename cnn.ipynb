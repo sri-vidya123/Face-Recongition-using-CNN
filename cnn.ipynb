{
 "cells": [
  {
   "cell_type": "markdown",
   "metadata": {
    "colab_type": "text",
    "id": "Tce3stUlHN0L"
   },
   "source": [
    "##### Copyright 2018 The TensorFlow Authors.\n",
    "\n"
   ]
  },
  {
   "cell_type": "code",
   "execution_count": 1,
   "metadata": {
    "colab": {},
    "colab_type": "code",
    "id": "tuOe1ymfHZPu"
   },
   "outputs": [],
   "source": [
    "#@title Licensed under the Apache License, Version 2.0 (the \"License\");\n",
    "# you may not use this file except in compliance with the License.\n",
    "# You may obtain a copy of the License at\n",
    "#\n",
    "# https://www.apache.org/licenses/LICENSE-2.0\n",
    "#\n",
    "# Unless required by applicable law or agreed to in writing, software\n",
    "# distributed under the License is distributed on an \"AS IS\" BASIS,\n",
    "# WITHOUT WARRANTIES OR CONDITIONS OF ANY KIND, either express or implied.\n",
    "# See the License for the specific language governing permissions and\n",
    "# limitations under the License."
   ]
  },
  {
   "cell_type": "markdown",
   "metadata": {
    "colab_type": "text",
    "id": "MfBg1C5NB3X0"
   },
   "source": [
    "# Build a Convolutional Neural Network using Estimators\n",
    "\n",
    "<table class=\"tfo-notebook-buttons\" align=\"left\">\n",
    "  <td>\n",
    "    <a target=\"_blank\" href=\"https://colab.research.google.com/github/tensorflow/docs/blob/master/site/en/r1/tutorials/estimators/cnn.ipynb\"><img src=\"https://www.tensorflow.org/images/colab_logo_32px.png\" />Run in Google Colab</a>\n",
    "  </td>\n",
    "  <td>\n",
    "    <a target=\"_blank\" href=\"https://github.com/tensorflow/docs/blob/master/site/en/r1/tutorials/estimators/cnn.ipynb\"><img src=\"https://www.tensorflow.org/images/GitHub-Mark-32px.png\" />View source on GitHub</a>\n",
    "  </td>\n",
    "</table>"
   ]
  },
  {
   "cell_type": "markdown",
   "metadata": {
    "colab_type": "text",
    "id": "xHxb-dlhMIzW"
   },
   "source": [
    "The `tf.layers` module provides a high-level API that makes\n",
    "it easy to construct a neural network. It provides methods that facilitate the\n",
    "creation of dense (fully connected) layers and convolutional layers, adding\n",
    "activation functions, and applying dropout regularization. In this tutorial,\n",
    "you'll learn how to use `layers` to build a convolutional neural network model\n",
    "to recognize the handwritten digits in the MNIST data set.\n",
    "\n",
    "![handwritten digits 0–9 from the MNIST data set](https://www.tensorflow.org/images/mnist_0-9.png)\n",
    "\n",
    "The [MNIST dataset](http://yann.lecun.com/exdb/mnist/) comprises 60,000\n",
    "training examples and 10,000 test examples of the handwritten digits 0–9,\n",
    "formatted as 28x28-pixel monochrome images."
   ]
  },
  {
   "cell_type": "markdown",
   "metadata": {
    "colab_type": "text",
    "id": "wTe-6uXpP2Ts"
   },
   "source": [
    "## Get Started\n",
    "\n",
    "Let's set up the imports for our TensorFlow program:"
   ]
  },
  {
   "cell_type": "code",
   "execution_count": 2,
   "metadata": {
    "colab": {},
    "colab_type": "code",
    "id": "6-tpguHLP6Rm"
   },
   "outputs": [
    {
     "name": "stderr",
     "output_type": "stream",
     "text": [
      "C:\\Anaconda3\\lib\\site-packages\\tensorflow\\python\\framework\\dtypes.py:523: FutureWarning: Passing (type, 1) or '1type' as a synonym of type is deprecated; in a future version of numpy, it will be understood as (type, (1,)) / '(1,)type'.\n",
      "  _np_qint8 = np.dtype([(\"qint8\", np.int8, 1)])\n",
      "C:\\Anaconda3\\lib\\site-packages\\tensorflow\\python\\framework\\dtypes.py:524: FutureWarning: Passing (type, 1) or '1type' as a synonym of type is deprecated; in a future version of numpy, it will be understood as (type, (1,)) / '(1,)type'.\n",
      "  _np_quint8 = np.dtype([(\"quint8\", np.uint8, 1)])\n",
      "C:\\Anaconda3\\lib\\site-packages\\tensorflow\\python\\framework\\dtypes.py:525: FutureWarning: Passing (type, 1) or '1type' as a synonym of type is deprecated; in a future version of numpy, it will be understood as (type, (1,)) / '(1,)type'.\n",
      "  _np_qint16 = np.dtype([(\"qint16\", np.int16, 1)])\n",
      "C:\\Anaconda3\\lib\\site-packages\\tensorflow\\python\\framework\\dtypes.py:526: FutureWarning: Passing (type, 1) or '1type' as a synonym of type is deprecated; in a future version of numpy, it will be understood as (type, (1,)) / '(1,)type'.\n",
      "  _np_quint16 = np.dtype([(\"quint16\", np.uint16, 1)])\n",
      "C:\\Anaconda3\\lib\\site-packages\\tensorflow\\python\\framework\\dtypes.py:527: FutureWarning: Passing (type, 1) or '1type' as a synonym of type is deprecated; in a future version of numpy, it will be understood as (type, (1,)) / '(1,)type'.\n",
      "  _np_qint32 = np.dtype([(\"qint32\", np.int32, 1)])\n",
      "C:\\Anaconda3\\lib\\site-packages\\tensorflow\\python\\framework\\dtypes.py:532: FutureWarning: Passing (type, 1) or '1type' as a synonym of type is deprecated; in a future version of numpy, it will be understood as (type, (1,)) / '(1,)type'.\n",
      "  np_resource = np.dtype([(\"resource\", np.ubyte, 1)])\n"
     ]
    }
   ],
   "source": [
    "from __future__ import absolute_import, division, print_function, unicode_literals\n",
    "\n",
    "import tensorflow as tf\n",
    "import numpy as np\n",
    "\n",
    "tf.logging.set_verbosity(tf.logging.INFO)"
   ]
  },
  {
   "cell_type": "markdown",
   "metadata": {
    "colab_type": "text",
    "id": "4j5yyyDFQgSB"
   },
   "source": [
    "## Intro to Convolutional Neural Networks\n",
    "\n",
    "Convolutional neural networks (CNNs) are the current state-of-the-art model\n",
    "architecture for image classification tasks. CNNs apply a series of filters to\n",
    "the raw pixel data of an image to extract and learn higher-level features, which\n",
    "the model can then use for classification. CNNs contains three components:\n",
    "\n",
    "*   **Convolutional layers**, which apply a specified number of convolution\n",
    "    filters to the image. For each subregion, the layer performs a set of\n",
    "    mathematical operations to produce a single value in the output feature map.\n",
    "    Convolutional layers then typically apply a\n",
    "    [ReLU activation function](https://en.wikipedia.org/wiki/Rectifier_\\(neural_networks\\)) to\n",
    "    the output to introduce nonlinearities into the model.\n",
    "\n",
    "*   **Pooling layers**, which\n",
    "    [downsample the image data](https://en.wikipedia.org/wiki/Convolutional_neural_network#Pooling_layer)\n",
    "    extracted by the convolutional layers to reduce the dimensionality of the\n",
    "    feature map in order to decrease processing time. A commonly used pooling\n",
    "    algorithm is max pooling, which extracts subregions of the feature map\n",
    "    (e.g., 2x2-pixel tiles), keeps their maximum value, and discards all other\n",
    "    values.\n",
    "\n",
    "*   **Dense (fully connected) layers**, which perform classification on the\n",
    "    features extracted by the convolutional layers and downsampled by the\n",
    "    pooling layers. In a dense layer, every node in the layer is connected to\n",
    "    every node in the preceding layer.\n",
    "\n",
    "Typically, a CNN is composed of a stack of convolutional modules that perform\n",
    "feature extraction. Each module consists of a convolutional layer followed by a\n",
    "pooling layer. The last convolutional module is followed by one or more dense\n",
    "layers that perform classification. The final dense layer in a CNN contains a\n",
    "single node for each target class in the model (all the possible classes the\n",
    "model may predict), with a\n",
    "[softmax](https://en.wikipedia.org/wiki/Softmax_function) activation function to\n",
    "generate a value between 0–1 for each node (the sum of all these softmax values\n",
    "is equal to 1). We can interpret the softmax values for a given image as\n",
    "relative measurements of how likely it is that the image falls into each target\n",
    "class.\n",
    "\n",
    "Note: For a more comprehensive walkthrough of CNN architecture, see Stanford University's [Convolutional Neural Networks for Visual Recognition course material](https://cs231n.github.io/convolutional-networks/)."
   ]
  },
  {
   "cell_type": "markdown",
   "metadata": {
    "colab_type": "text",
    "id": "j23E_Z0FQvZB"
   },
   "source": [
    "## Building the CNN MNIST Classifier\n",
    "\n",
    "Let's build a model to classify the images in the MNIST dataset using the\n",
    "following CNN architecture:\n",
    "\n",
    "1.  **Convolutional Layer #1**: Applies 32 5x5 filters (extracting 5x5-pixel\n",
    "    subregions), with ReLU activation function\n",
    "2.  **Pooling Layer #1**: Performs max pooling with a 2x2 filter and stride of 2\n",
    "    (which specifies that pooled regions do not overlap)\n",
    "3.  **Convolutional Layer #2**: Applies 64 5x5 filters, with ReLU activation\n",
    "    function\n",
    "4.  **Pooling Layer #2**: Again, performs max pooling with a 2x2 filter and\n",
    "    stride of 2\n",
    "5.  **Dense Layer #1**: 1,024 neurons, with dropout regularization rate of 0.4\n",
    "    (probability of 0.4 that any given element will be dropped during training)\n",
    "6.  **Dense Layer #2 (Logits Layer)**: 10 neurons, one for each digit target\n",
    "    class (0–9).\n",
    "\n",
    "The `tf.layers` module contains methods to create each of the three layer types\n",
    "above:\n",
    "\n",
    "*   `conv2d()`. Constructs a two-dimensional convolutional layer. Takes number\n",
    "    of filters, filter kernel size, padding, and activation function as\n",
    "    arguments.\n",
    "*   `max_pooling2d()`. Constructs a two-dimensional pooling layer using the\n",
    "    max-pooling algorithm. Takes pooling filter size and stride as arguments.\n",
    "*   `dense()`. Constructs a dense layer. Takes number of neurons and activation\n",
    "    function as arguments.\n",
    "\n",
    "Each of these methods accepts a tensor as input and returns a transformed tensor\n",
    "as output. This makes it easy to connect one layer to another: just take the\n",
    "output from one layer-creation method and supply it as input to another.\n",
    "\n",
    "Add the following `cnn_model_fn` function, which\n",
    "conforms to the interface expected by TensorFlow's Estimator API (more on this\n",
    "later in [Create the Estimator](#create-the-estimator)). This function takes\n",
    "MNIST feature data, labels, and mode (from\n",
    "`tf.estimator.ModeKeys`: `TRAIN`, `EVAL`, `PREDICT`) as arguments;\n",
    "configures the CNN; and returns predictions, loss, and a training operation:"
   ]
  },
  {
   "cell_type": "code",
   "execution_count": 3,
   "metadata": {
    "colab": {},
    "colab_type": "code",
    "id": "gMR-_3rkRKPa"
   },
   "outputs": [],
   "source": [
    "def cnn_model_fn(features, labels, mode):\n",
    "  \"\"\"Model function for CNN.\"\"\"\n",
    "  # Input Layer\n",
    "  input_layer = tf.reshape(features[\"x\"], [-1, 28, 28, 1])\n",
    "\n",
    "  # Convolutional Layer #1\n",
    "  conv1 = tf.layers.conv2d(\n",
    "      inputs=input_layer,\n",
    "      filters=32,\n",
    "      kernel_size=[5, 5],\n",
    "      padding=\"same\",\n",
    "      activation=tf.nn.relu)\n",
    "\n",
    "  # Pooling Layer #1\n",
    "  pool1 = tf.layers.max_pooling2d(inputs=conv1, pool_size=[2, 2], strides=2)\n",
    "\n",
    "  # Convolutional Layer #2 and Pooling Layer #2\n",
    "  conv2 = tf.layers.conv2d(\n",
    "      inputs=pool1,\n",
    "      filters=64,\n",
    "      kernel_size=[5, 5],\n",
    "      padding=\"same\",\n",
    "      activation=tf.nn.relu)\n",
    "  pool2 = tf.layers.max_pooling2d(inputs=conv2, pool_size=[2, 2], strides=2)\n",
    "\n",
    "  # Dense Layer\n",
    "  pool2_flat = tf.reshape(pool2, [-1, 7 * 7 * 64])\n",
    "  dense = tf.layers.dense(inputs=pool2_flat, units=1024, activation=tf.nn.relu)\n",
    "  dropout = tf.layers.dropout(\n",
    "      inputs=dense, rate=0.4, training=mode == tf.estimator.ModeKeys.TRAIN)\n",
    "\n",
    "  # Logits Layer\n",
    "  logits = tf.layers.dense(inputs=dropout, units=10)\n",
    "\n",
    "  predictions = {\n",
    "      # Generate predictions (for PREDICT and EVAL mode)\n",
    "      \"classes\": tf.argmax(input=logits, axis=1),\n",
    "      # Add `softmax_tensor` to the graph. It is used for PREDICT and by the\n",
    "      # `logging_hook`.\n",
    "      \"probabilities\": tf.nn.softmax(logits, name=\"softmax_tensor\")\n",
    "  }\n",
    "\n",
    "  if mode == tf.estimator.ModeKeys.PREDICT:\n",
    "    return tf.estimator.EstimatorSpec(mode=mode, predictions=predictions)\n",
    "\n",
    "  # Calculate Loss (for both TRAIN and EVAL modes)\n",
    "  loss = tf.losses.sparse_softmax_cross_entropy(labels=labels, logits=logits)\n",
    "\n",
    "  # Configure the Training Op (for TRAIN mode)\n",
    "  if mode == tf.estimator.ModeKeys.TRAIN:\n",
    "    optimizer = tf.train.GradientDescentOptimizer(learning_rate=0.001)\n",
    "    train_op = optimizer.minimize(\n",
    "        loss=loss,\n",
    "        global_step=tf.train.get_global_step())\n",
    "    return tf.estimator.EstimatorSpec(mode=mode, loss=loss, train_op=train_op)\n",
    "\n",
    "  # Add evaluation metrics (for EVAL mode)\n",
    "  eval_metric_ops = {\n",
    "      \"accuracy\": tf.metrics.accuracy(\n",
    "          labels=labels, predictions=predictions[\"classes\"])\n",
    "  }\n",
    "  return tf.estimator.EstimatorSpec(\n",
    "      mode=mode, loss=loss, eval_metric_ops=eval_metric_ops)"
   ]
  },
  {
   "cell_type": "markdown",
   "metadata": {
    "colab_type": "text",
    "id": "b7z8qC9FRSLB"
   },
   "source": [
    "The following sections (with headings corresponding to each code block above)\n",
    "dive deeper into the `tf.layers` code used to create each layer, as well as how\n",
    "to calculate loss, configure the training op, and generate predictions. If\n",
    "you're already experienced with CNNs and [TensorFlow `Estimator`s](../../guide/custom_estimators.md),\n",
    "and find the above code intuitive, you may want to skim these sections or just\n",
    "skip ahead to [\"Training and Evaluating the CNN MNIST Classifier\"](#train_eval_mnist)."
   ]
  },
  {
   "cell_type": "markdown",
   "metadata": {
    "colab_type": "text",
    "id": "sFBXEYRlRUWu"
   },
   "source": [
    "### Input Layer\n",
    "\n",
    "The methods in the `layers` module for creating convolutional and pooling layers\n",
    "for two-dimensional image data expect input tensors to have a shape of\n",
    "<code>[<em>batch_size</em>, <em>image_height</em>, <em>image_width</em>,\n",
    "<em>channels</em>]</code> by default. This behavior can be changed using the\n",
    "<code><em>data_format</em></code> parameter; defined as follows:\n",
    "\n",
    "*   `batch_size` —Size of the subset of examples to use when performing\n",
    "    gradient descent during training.\n",
    "*   `image_height` —Height of the example images.\n",
    "*   `image_width` —Width of the example images.\n",
    "*   `channels` —Number of color channels in the example images. For color\n",
    "    images, the number of channels is 3 (red, green, blue). For monochrome\n",
    "    images, there is just 1 channel (black).\n",
    "*   `data_format` —A string, one of `channels_last` (default) or `channels_first`.\n",
    "      `channels_last` corresponds to inputs with shape\n",
    "      `(batch, ..., channels)` while `channels_first` corresponds to\n",
    "      inputs with shape `(batch, channels, ...)`.\n",
    "\n",
    "Here, our MNIST dataset is composed of monochrome 28x28 pixel images, so the\n",
    "desired shape for our input layer is <code>[<em>batch_size</em>, 28, 28,\n",
    "1]</code>.\n",
    "\n",
    "To convert our input feature map (`features`) to this shape, we can perform the\n",
    "following `reshape` operation:\n",
    "\n",
    "```\n",
    "input_layer = tf.reshape(features[\"x\"], [-1, 28, 28, 1])\n",
    "```\n",
    "\n",
    "Note that we've indicated `-1` for batch size, which specifies that this\n",
    "dimension should be dynamically computed based on the number of input values in\n",
    "`features[\"x\"]`, holding the size of all other dimensions constant. This allows\n",
    "us to treat `batch_size` as a hyperparameter that we can tune. For example, if\n",
    "we feed examples into our model in batches of 5, `features[\"x\"]` will contain\n",
    "3,920 values (one value for each pixel in each image), and `input_layer` will\n",
    "have a shape of `[5, 28, 28, 1]`. Similarly, if we feed examples in batches of\n",
    "100, `features[\"x\"]` will contain 78,400 values, and `input_layer` will have a\n",
    "shape of `[100, 28, 28, 1]`."
   ]
  },
  {
   "cell_type": "markdown",
   "metadata": {
    "colab_type": "text",
    "id": "iU8Jr1_JRiKA"
   },
   "source": [
    "### Convolutional Layer #1\n",
    "\n",
    "In our first convolutional layer, we want to apply 32 5x5 filters to the input\n",
    "layer, with a ReLU activation function. We can use the `conv2d()` method in the\n",
    "`layers` module to create this layer as follows:\n",
    "\n",
    "```\n",
    "conv1 = tf.layers.conv2d(\n",
    "    inputs=input_layer,\n",
    "    filters=32,\n",
    "    kernel_size=[5, 5],\n",
    "    padding=\"same\",\n",
    "    activation=tf.nn.relu)\n",
    "```\n",
    "\n",
    "The `inputs` argument specifies our input tensor, which must have the shape\n",
    "<code>[<em>batch_size</em>, <em>image_height</em>, <em>image_width</em>,\n",
    "<em>channels</em>]</code>. Here, we're connecting our first convolutional layer\n",
    "to `input_layer`, which has the shape <code>[<em>batch_size</em>, 28, 28,\n",
    "1]</code>.\n",
    "\n",
    "Note: `conv2d()` will instead accept a shape of `[<em>batch_size</em>, <em>channels</em>, <em>image_height</em>, <em>image_width</em>]` when passed the argument `data_format=channels_first`.\n",
    "\n",
    "The `filters` argument specifies the number of filters to apply (here, 32), and\n",
    "`kernel_size` specifies the dimensions of the filters as `[<em>height</em>,\n",
    "<em>width</em>]</code> (here, <code>[5, 5]`).\n",
    "\n",
    "<p class=\"tip\"><b>TIP:</b> If filter height and width have the same value, you can instead specify a\n",
    "single integer for <code>kernel_size</code>—e.g., <code>kernel_size=5</code>.</p>\n",
    "\n",
    "The `padding` argument specifies one of two enumerated values\n",
    "(case-insensitive): `valid` (default value) or `same`. To specify that the\n",
    "output tensor should have the same height and width values as the input tensor,\n",
    "we set `padding=same` here, which instructs TensorFlow to add 0 values to the\n",
    "edges of the input tensor to preserve height and width of 28. (Without padding,\n",
    "a 5x5 convolution over a 28x28 tensor will produce a 24x24 tensor, as there are\n",
    "24x24 locations to extract a 5x5 tile from a 28x28 grid.)\n",
    "\n",
    "The `activation` argument specifies the activation function to apply to the\n",
    "output of the convolution. Here, we specify ReLU activation with\n",
    "`tf.nn.relu`.\n",
    "\n",
    "Our output tensor produced by `conv2d()` has a shape of\n",
    "<code>[<em>batch_size</em>, 28, 28, 32]</code>: the same height and width\n",
    "dimensions as the input, but now with 32 channels holding the output from each\n",
    "of the filters."
   ]
  },
  {
   "cell_type": "markdown",
   "metadata": {
    "colab_type": "text",
    "id": "8qzx1ZMFRqt_"
   },
   "source": [
    "### Pooling Layer #1\n",
    "\n",
    "Next, we connect our first pooling layer to the convolutional layer we just\n",
    "created. We can use the `max_pooling2d()` method in `layers` to construct a\n",
    "layer that performs max pooling with a 2x2 filter and stride of 2:\n",
    "\n",
    "```\n",
    "pool1 = tf.layers.max_pooling2d(inputs=conv1, pool_size=[2, 2], strides=2)\n",
    "```\n",
    "\n",
    "Again, `inputs` specifies the input tensor, with a shape of\n",
    "<code>[<em>batch_size</em>, <em>image_height</em>, <em>image_width</em>,\n",
    "<em>channels</em>]</code>. Here, our input tensor is `conv1`, the output from\n",
    "the first convolutional layer, which has a shape of <code>[<em>batch_size</em>,\n",
    "28, 28, 32]</code>.\n",
    "\n",
    "Note: As with <code>conv2d()</code>, <code>max_pooling2d()</code> will instead\n",
    "accept a shape of <code>[<em>batch_size</em>, <em>channels</em>,\n",
    "<em>image_height</em>, <em>image_width</em>]</code> when passed the argument\n",
    "<code>data_format=channels_first</code>.\n",
    "\n",
    "The `pool_size` argument specifies the size of the max pooling filter as\n",
    "<code>[<em>height</em>, <em>width</em>]</code> (here, `[2, 2]`). If both\n",
    "dimensions have the same value, you can instead specify a single integer (e.g.,\n",
    "`pool_size=2`).\n",
    "\n",
    "The `strides` argument specifies the size of the stride. Here, we set a stride\n",
    "of 2, which indicates that the subregions extracted by the filter should be\n",
    "separated by 2 pixels in both the height and width dimensions (for a 2x2 filter,\n",
    "this means that none of the regions extracted will overlap). If you want to set\n",
    "different stride values for height and width, you can instead specify a tuple or\n",
    "list (e.g., `stride=[3, 6]`).\n",
    "\n",
    "Our output tensor produced by `max_pooling2d()` (`pool1`) has a shape of\n",
    "<code>[<em>batch_size</em>, 14, 14, 32]</code>: the 2x2 filter reduces height and width by 50% each."
   ]
  },
  {
   "cell_type": "markdown",
   "metadata": {
    "colab_type": "text",
    "id": "xXej53NlRzFh"
   },
   "source": [
    "### Convolutional Layer #2 and Pooling Layer #2\n",
    "\n",
    "We can connect a second convolutional and pooling layer to our CNN using\n",
    "`conv2d()` and `max_pooling2d()` as before. For convolutional layer #2, we\n",
    "configure 64 5x5 filters with ReLU activation, and for pooling layer #2, we use\n",
    "the same specs as pooling layer #1 (a 2x2 max pooling filter with stride of 2):\n",
    "\n",
    "```\n",
    "conv2 = tf.layers.conv2d(\n",
    "    inputs=pool1,\n",
    "    filters=64,\n",
    "    kernel_size=[5, 5],\n",
    "    padding=\"same\",\n",
    "    activation=tf.nn.relu)\n",
    "\n",
    "pool2 = tf.layers.max_pooling2d(inputs=conv2, pool_size=[2, 2], strides=2)\n",
    "```\n",
    "\n",
    "Note that convolutional layer #2 takes the output tensor of our first pooling\n",
    "layer (`pool1`) as input, and produces the tensor `conv2` as output. `conv2`\n",
    "has a shape of <code>[<em>batch_size</em>, 14, 14, 64]</code>, the same height and width as `pool1` (due to `padding=\"same\"`), and 64 channels for the 64\n",
    "filters applied.\n",
    "\n",
    "Pooling layer #2 takes `conv2` as input, producing `pool2` as output. `pool2`\n",
    "has shape <code>[<em>batch_size</em>, 7, 7, 64]</code> (50% reduction of height and width from `conv2`)."
   ]
  },
  {
   "cell_type": "markdown",
   "metadata": {
    "colab_type": "text",
    "id": "jjmLqVP7R7z6"
   },
   "source": [
    "### Dense Layer\n",
    "\n",
    "Next, we want to add a dense layer (with 1,024 neurons and ReLU activation) to\n",
    "our CNN to perform classification on the features extracted by the\n",
    "convolution/pooling layers. Before we connect the layer, however, we'll flatten\n",
    "our feature map (`pool2`) to shape <code>[<em>batch_size</em>,\n",
    "<em>features</em>]</code>, so that our tensor has only two dimensions:\n",
    "\n",
    "```\n",
    "pool2_flat = tf.reshape(pool2, [-1, 7 * 7 * 64])\n",
    "```\n",
    "\n",
    "In the `reshape()` operation above, the `-1` signifies that the *`batch_size`*\n",
    "dimension will be dynamically calculated based on the number of examples in our\n",
    "input data. Each example has 7 (`pool2` height) * 7 (`pool2` width) * 64\n",
    "(`pool2` channels) features, so we want the `features` dimension to have a value\n",
    "of 7 * 7 * 64 (3136 in total). The output tensor, `pool2_flat`, has shape\n",
    "<code>[<em>batch_size</em>, 3136]</code>.\n",
    "\n",
    "Now, we can use the `dense()` method in `layers` to connect our dense layer as\n",
    "follows:\n",
    "\n",
    "```\n",
    "dense = tf.layers.dense(inputs=pool2_flat, units=1024, activation=tf.nn.relu)\n",
    "```\n",
    "\n",
    "The `inputs` argument specifies the input tensor: our flattened feature map,\n",
    "`pool2_flat`. The `units` argument specifies the number of neurons in the dense\n",
    "layer (1,024). The `activation` argument takes the activation function; again,\n",
    "we'll use `tf.nn.relu` to add ReLU activation.\n",
    "\n",
    "To help improve the results of our model, we also apply dropout regularization\n",
    "to our dense layer, using the `dropout` method in `layers`:\n",
    "\n",
    "```\n",
    "dropout = tf.layers.dropout(\n",
    "    inputs=dense, rate=0.4, training=mode == tf.estimator.ModeKeys.TRAIN)\n",
    "```\n",
    "\n",
    "Again, `inputs` specifies the input tensor, which is the output tensor from our\n",
    "dense layer (`dense`).\n",
    "\n",
    "The `rate` argument specifies the dropout rate; here, we use `0.4`, which means\n",
    "40% of the elements will be randomly dropped out during training.\n",
    "\n",
    "The `training` argument takes a boolean specifying whether or not the model is\n",
    "currently being run in training mode; dropout will only be performed if\n",
    "`training` is `True`. Here, we check if the `mode` passed to our model function\n",
    "`cnn_model_fn` is `TRAIN` mode.\n",
    "\n",
    "Our output tensor `dropout` has shape <code>[<em>batch_size</em>, 1024]</code>."
   ]
  },
  {
   "cell_type": "markdown",
   "metadata": {
    "colab_type": "text",
    "id": "rzUcwkCZSTF7"
   },
   "source": [
    "### Logits Layer\n",
    "\n",
    "The final layer in our neural network is the logits layer, which will return the\n",
    "raw values for our predictions. We create a dense layer with 10 neurons (one for\n",
    "each target class 0–9), with linear activation (the default):\n",
    "\n",
    "```\n",
    "logits = tf.layers.dense(inputs=dropout, units=10)\n",
    "```\n",
    "\n",
    "Our final output tensor of the CNN, `logits`, has shape `[batch_size, 10]`."
   ]
  },
  {
   "cell_type": "markdown",
   "metadata": {
    "colab_type": "text",
    "id": "y3uJ0V1KSakc"
   },
   "source": [
    "### Generate Predictions {#generate_predictions}\n",
    "\n",
    "The logits layer of our model returns our predictions as raw values in a\n",
    "<code>[<em>batch_size</em>, 10]</code>-dimensional tensor. Let's convert these\n",
    "raw values into two different formats that our model function can return:\n",
    "\n",
    "*   The **predicted class** for each example: a digit from 0–9.\n",
    "*   The **probabilities** for each possible target class for each example: the\n",
    "    probability that the example is a 0, is a 1, is a 2, etc.\n",
    "\n",
    "For a given example, our predicted class is the element in the corresponding row\n",
    "of the logits tensor with the highest raw value. We can find the index of this\n",
    "element using the `tf.argmax`\n",
    "function:\n",
    "\n",
    "```\n",
    "tf.argmax(input=logits, axis=1)\n",
    "```\n",
    "\n",
    "The `input` argument specifies the tensor from which to extract maximum\n",
    "values—here `logits`. The `axis` argument specifies the axis of the `input`\n",
    "tensor along which to find the greatest value. Here, we want to find the largest\n",
    "value along the dimension with index of 1, which corresponds to our predictions\n",
    "(recall that our logits tensor has shape <code>[<em>batch_size</em>,\n",
    "10]</code>).\n",
    "\n",
    "We can derive probabilities from our logits layer by applying softmax activation\n",
    "using `tf.nn.softmax`:\n",
    "\n",
    "```\n",
    "tf.nn.softmax(logits, name=\"softmax_tensor\")\n",
    "```\n",
    "\n",
    "Note: We use the `name` argument to explicitly name this operation `softmax_tensor`, so we can reference it later. (We'll set up logging for the softmax values in [\"Set Up a Logging Hook\"](#set-up-a-logging-hook)).\n",
    "\n",
    "We compile our predictions in a dict, and return an `EstimatorSpec` object:\n",
    "\n",
    "```\n",
    "predictions = {\n",
    "    \"classes\": tf.argmax(input=logits, axis=1),\n",
    "    \"probabilities\": tf.nn.softmax(logits, name=\"softmax_tensor\")\n",
    "}\n",
    "if mode == tf.estimator.ModeKeys.PREDICT:\n",
    "  return tf.estimator.EstimatorSpec(mode=mode, predictions=predictions)\n",
    "```"
   ]
  },
  {
   "cell_type": "markdown",
   "metadata": {
    "colab_type": "text",
    "id": "f2ks_tqSSucg"
   },
   "source": [
    "### Calculate Loss {#calculating-loss}\n",
    "\n",
    "For both training and evaluation, we need to define a\n",
    "[loss function](https://en.wikipedia.org/wiki/Loss_function)\n",
    "that measures how closely the model's predictions match the target classes. For\n",
    "multiclass classification problems like MNIST,\n",
    "[cross entropy](https://en.wikipedia.org/wiki/Cross_entropy) is typically used\n",
    "as the loss metric. The following code calculates cross entropy when the model\n",
    "runs in either `TRAIN` or `EVAL` mode:\n",
    "\n",
    "```\n",
    "loss = tf.losses.sparse_softmax_cross_entropy(labels=labels, logits=logits)\n",
    "```\n",
    "\n",
    "Let's take a closer look at what's happening above.\n",
    "\n",
    "Our `labels` tensor contains a list of prediction indices for our examples, e.g. `[1,\n",
    "9, ...]`. `logits` contains the linear outputs of our last layer.\n",
    "\n",
    "`tf.losses.sparse_softmax_cross_entropy`, calculates the softmax crossentropy\n",
    "(aka: categorical crossentropy, negative log-likelihood) from these two inputs\n",
    "in an efficient, numerically stable way."
   ]
  },
  {
   "cell_type": "markdown",
   "metadata": {
    "colab_type": "text",
    "id": "YgE7Ll3pS2FG"
   },
   "source": [
    "### Configure the Training Op\n",
    "\n",
    "In the previous section, we defined loss for our CNN as the softmax\n",
    "cross-entropy of the logits layer and our labels. Let's configure our model to\n",
    "optimize this loss value during training. We'll use a learning rate of 0.001 and\n",
    "[stochastic gradient descent](https://en.wikipedia.org/wiki/Stochastic_gradient_descent)\n",
    "as the optimization algorithm:\n",
    "\n",
    "```\n",
    "if mode == tf.estimator.ModeKeys.TRAIN:\n",
    "  optimizer = tf.train.GradientDescentOptimizer(learning_rate=0.001)\n",
    "  train_op = optimizer.minimize(\n",
    "      loss=loss,\n",
    "      global_step=tf.train.get_global_step())\n",
    "  return tf.estimator.EstimatorSpec(mode=mode, loss=loss, train_op=train_op)\n",
    "```"
   ]
  },
  {
   "cell_type": "markdown",
   "metadata": {
    "colab_type": "text",
    "id": "rEJPnXAzS6m9"
   },
   "source": [
    "Note: For a more in-depth look at configuring training ops for Estimator model functions, see [\"Defining the training op for the model\"](../../guide/custom_estimators.md#defining-the-training-op-for-the-model) in the [\"Creating Estimations in tf.estimator\"](../../guide/custom_estimators.md) tutorial."
   ]
  },
  {
   "cell_type": "markdown",
   "metadata": {
    "colab_type": "text",
    "id": "QQuGDWvHTAib"
   },
   "source": [
    "### Add evaluation metrics\n",
    "\n",
    "To add accuracy metric in our model, we define `eval_metric_ops` dict in EVAL\n",
    "mode as follows:\n",
    "\n",
    "```\n",
    "eval_metric_ops = {\n",
    "    \"accuracy\": tf.metrics.accuracy(\n",
    "        labels=labels, predictions=predictions[\"classes\"])\n",
    "}\n",
    "return tf.estimator.EstimatorSpec(\n",
    "    mode=mode, loss=loss, eval_metric_ops=eval_metric_ops)\n",
    "```"
   ]
  },
  {
   "cell_type": "markdown",
   "metadata": {
    "colab_type": "text",
    "id": "Y2Bwe-AdTRzX"
   },
   "source": [
    "<a id=\"train_eval_mnist\"></a>\n",
    "## Training and Evaluating the CNN MNIST Classifier\n",
    "\n",
    "We've coded our MNIST CNN model function; now we're ready to train and evaluate\n",
    "it."
   ]
  },
  {
   "cell_type": "markdown",
   "metadata": {
    "colab_type": "text",
    "id": "6EC9aOY2TTLU"
   },
   "source": [
    "### Load Training and Test Data\n",
    "\n",
    "First, let's load our training and test data with the following code:"
   ]
  },
  {
   "cell_type": "code",
   "execution_count": 4,
   "metadata": {
    "colab": {},
    "colab_type": "code",
    "id": "ccobb0qETV-S"
   },
   "outputs": [
    {
     "name": "stdout",
     "output_type": "stream",
     "text": [
      "Downloading data from https://storage.googleapis.com/tensorflow/tf-keras-datasets/mnist.npz\n",
      "11493376/11490434 [==============================] - 1s 0us/step\n"
     ]
    }
   ],
   "source": [
    "# Load training and eval data\n",
    "((train_data, train_labels),\n",
    " (eval_data, eval_labels)) = tf.keras.datasets.mnist.load_data()\n",
    "\n",
    "train_data = train_data/np.float32(255)\n",
    "train_labels = train_labels.astype(np.int32)  # not required\n",
    "\n",
    "eval_data = eval_data/np.float32(255)\n",
    "eval_labels = eval_labels.astype(np.int32)  # not required"
   ]
  },
  {
   "cell_type": "markdown",
   "metadata": {
    "colab_type": "text",
    "id": "8l84-IxSTZnO"
   },
   "source": [
    "We store the training feature data (the raw pixel values for 55,000 images of\n",
    "hand-drawn digits) and training labels (the corresponding value from 0–9 for\n",
    "each image) as [numpy\n",
    "arrays](https://docs.scipy.org/doc/numpy/reference/generated/numpy.array.html)\n",
    "in `train_data` and `train_labels`, respectively. Similarly, we store the\n",
    "evaluation feature data (10,000 images) and evaluation labels in `eval_data`\n",
    "and `eval_labels`, respectively."
   ]
  },
  {
   "cell_type": "markdown",
   "metadata": {
    "colab_type": "text",
    "id": "S2_Isc7kTa45"
   },
   "source": [
    "### Create the Estimator {#create-the-estimator}\n",
    "\n",
    "Next, let's create an `Estimator` (a TensorFlow class for performing high-level\n",
    "model training, evaluation, and inference) for our model. Add the following code\n",
    "to `main()`:"
   ]
  },
  {
   "cell_type": "code",
   "execution_count": 5,
   "metadata": {
    "colab": {},
    "colab_type": "code",
    "id": "yjC6HdwZTdg4"
   },
   "outputs": [
    {
     "name": "stdout",
     "output_type": "stream",
     "text": [
      "INFO:tensorflow:Using default config.\n",
      "INFO:tensorflow:Using config: {'_model_dir': '/tmp/mnist_convnet_model', '_tf_random_seed': None, '_save_summary_steps': 100, '_save_checkpoints_steps': None, '_save_checkpoints_secs': 600, '_session_config': None, '_keep_checkpoint_max': 5, '_keep_checkpoint_every_n_hours': 10000, '_log_step_count_steps': 100, '_train_distribute': None, '_device_fn': None, '_service': None, '_cluster_spec': <tensorflow.python.training.server_lib.ClusterSpec object at 0x000001B539BCD2B0>, '_task_type': 'worker', '_task_id': 0, '_global_id_in_cluster': 0, '_master': '', '_evaluation_master': '', '_is_chief': True, '_num_ps_replicas': 0, '_num_worker_replicas': 1}\n"
     ]
    }
   ],
   "source": [
    "# Create the Estimator\n",
    "mnist_classifier = tf.estimator.Estimator(\n",
    "    model_fn=cnn_model_fn, model_dir=\"/tmp/mnist_convnet_model\")"
   ]
  },
  {
   "cell_type": "markdown",
   "metadata": {
    "colab_type": "text",
    "id": "f78EBcg7TfTU"
   },
   "source": [
    "The `model_fn` argument specifies the model function to use for training,\n",
    "evaluation, and prediction; we pass it the `cnn_model_fn` we created in\n",
    "[\"Building the CNN MNIST Classifier.\"](#building-the-cnn-mnist-classifier) The\n",
    "`model_dir` argument specifies the directory where model data (checkpoints) will\n",
    "be saved (here, we specify the temp directory `/tmp/mnist_convnet_model`, but\n",
    "feel free to change to another directory of your choice).\n",
    "\n",
    "Note: For an in-depth walkthrough of the TensorFlow `Estimator` API, see the tutorial [Creating Estimators in tf.estimator](../../guide/custom_estimators.md)."
   ]
  },
  {
   "cell_type": "markdown",
   "metadata": {
    "colab_type": "text",
    "id": "_6ow7hVYTm3f"
   },
   "source": [
    "### Set Up a Logging Hook {#set_up_a_logging_hook}\n",
    "\n",
    "Since CNNs can take a while to train, let's set up some logging so we can track\n",
    "progress during training. We can use TensorFlow's `tf.train.SessionRunHook` to create a\n",
    "`tf.train.LoggingTensorHook`\n",
    "that will log the probability values from the softmax layer of our CNN. Add the\n",
    "following to `main()`:"
   ]
  },
  {
   "cell_type": "code",
   "execution_count": 6,
   "metadata": {
    "colab": {},
    "colab_type": "code",
    "id": "S6T10kssTpdz"
   },
   "outputs": [],
   "source": [
    "# Set up logging for predictions\n",
    "tensors_to_log = {\"probabilities\": \"softmax_tensor\"}\n",
    "\n",
    "logging_hook = tf.train.LoggingTensorHook(\n",
    "    tensors=tensors_to_log, every_n_iter=50)"
   ]
  },
  {
   "cell_type": "markdown",
   "metadata": {
    "colab_type": "text",
    "id": "RZdtZ6JQTsmg"
   },
   "source": [
    "We store a dict of the tensors we want to log in `tensors_to_log`. Each key is a\n",
    "label of our choice that will be printed in the log output, and the\n",
    "corresponding label is the name of a `Tensor` in the TensorFlow graph. Here, our\n",
    "`probabilities` can be found in `softmax_tensor`, the name we gave our softmax\n",
    "operation earlier when we generated the probabilities in `cnn_model_fn`.\n",
    "\n",
    "Note: If you don't explicitly assign a name to an operation via the `name` argument, TensorFlow will assign a default name. A couple easy ways to discover the names applied to operations are to visualize your graph on [TensorBoard](../../guide/graph_viz.md)) or to enable the [TensorFlow Debugger (tfdbg)](../../guide/debugger.md).\n",
    "\n",
    "Next, we create the `LoggingTensorHook`, passing `tensors_to_log` to the\n",
    "`tensors` argument. We set `every_n_iter=50`, which specifies that probabilities\n",
    "should be logged after every 50 steps of training."
   ]
  },
  {
   "cell_type": "markdown",
   "metadata": {
    "colab_type": "text",
    "id": "brVs1dRMT0NM"
   },
   "source": [
    "### Train the Model\n",
    "\n",
    "Now we're ready to train our model, which we can do by creating `train_input_fn`\n",
    "and calling `train()` on `mnist_classifier`. In the `numpy_input_fn` call, we pass the training feature data and labels to\n",
    "`x` (as a dict) and `y`, respectively. We set a `batch_size` of `100` (which\n",
    "means that the model will train on minibatches of 100 examples at each step).\n",
    "`num_epochs=None` means that the model will train until the specified number of\n",
    "steps is reached. We also set `shuffle=True` to shuffle the training data. Then train the model a single step and log the output:"
   ]
  },
  {
   "cell_type": "code",
   "execution_count": 7,
   "metadata": {
    "colab": {},
    "colab_type": "code",
    "id": "h-dewpleT2sk"
   },
   "outputs": [
    {
     "name": "stdout",
     "output_type": "stream",
     "text": [
      "INFO:tensorflow:Calling model_fn.\n",
      "INFO:tensorflow:Done calling model_fn.\n",
      "INFO:tensorflow:Create CheckpointSaverHook.\n",
      "INFO:tensorflow:Graph was finalized.\n",
      "INFO:tensorflow:Running local_init_op.\n",
      "INFO:tensorflow:Done running local_init_op.\n",
      "INFO:tensorflow:Saving checkpoints for 0 into /tmp/mnist_convnet_model\\model.ckpt.\n",
      "INFO:tensorflow:probabilities = [[0.10294435 0.09246062 0.11307848 0.1031464  0.10722908 0.08573306\n",
      "  0.09415475 0.10460827 0.10219663 0.09444822]\n",
      " [0.10589834 0.09259324 0.11065704 0.10946505 0.08149429 0.08958938\n",
      "  0.10507379 0.09541642 0.11471026 0.09510214]\n",
      " [0.09796825 0.08818212 0.12318348 0.09306129 0.08538591 0.10829498\n",
      "  0.10595863 0.10136475 0.10991389 0.08668678]\n",
      " [0.09932867 0.08147097 0.11755894 0.10642598 0.10051157 0.10067254\n",
      "  0.09349005 0.09297833 0.11751562 0.09004727]\n",
      " [0.11351368 0.09237197 0.10606868 0.10856678 0.09681065 0.09189443\n",
      "  0.08838093 0.10904339 0.10363718 0.08971234]\n",
      " [0.100486   0.09929378 0.09743188 0.10283686 0.09867653 0.09947114\n",
      "  0.09985112 0.09903175 0.10909262 0.09382822]\n",
      " [0.09913246 0.09604136 0.10653325 0.10580198 0.10278811 0.09447426\n",
      "  0.09733494 0.09719106 0.10418841 0.09651413]\n",
      " [0.09538617 0.09642372 0.10930793 0.10117617 0.09086622 0.1030573\n",
      "  0.1009929  0.10576931 0.10543678 0.09158351]\n",
      " [0.10832458 0.10201886 0.12287205 0.11083515 0.09580532 0.08649086\n",
      "  0.09660935 0.09255236 0.10076748 0.083724  ]\n",
      " [0.09037143 0.09031229 0.10383915 0.10709638 0.09884257 0.10470023\n",
      "  0.10986996 0.093389   0.11538843 0.08619048]\n",
      " [0.10964046 0.09521177 0.11519364 0.0993745  0.09154768 0.09185435\n",
      "  0.09526112 0.10509252 0.10526293 0.09156099]\n",
      " [0.11002714 0.09074322 0.12137308 0.10987862 0.08764902 0.09931272\n",
      "  0.08868174 0.08637999 0.10870045 0.09725401]\n",
      " [0.10838123 0.09262295 0.10618161 0.10686377 0.08699913 0.0986853\n",
      "  0.09896787 0.10147878 0.1051034  0.0947159 ]\n",
      " [0.09742752 0.09182413 0.12565275 0.09995911 0.08917676 0.09652692\n",
      "  0.10867906 0.09856451 0.10352928 0.08866008]\n",
      " [0.09527303 0.09206145 0.1153861  0.1108062  0.09350795 0.09237716\n",
      "  0.09282511 0.09637792 0.11295225 0.09843279]\n",
      " [0.10408006 0.08660536 0.11083127 0.11563609 0.09142882 0.0967307\n",
      "  0.09839401 0.10045936 0.1032034  0.09263097]\n",
      " [0.09819106 0.09033882 0.12486009 0.08912189 0.10113398 0.11244545\n",
      "  0.0928283  0.10295103 0.10174318 0.08638617]\n",
      " [0.09720077 0.0812081  0.10647056 0.10338629 0.10995873 0.09936696\n",
      "  0.1067118  0.0875003  0.11152904 0.09666742]\n",
      " [0.0942893  0.08902489 0.12223569 0.10951226 0.09684877 0.10122191\n",
      "  0.0879949  0.10163397 0.10075235 0.09648603]\n",
      " [0.09249035 0.0933473  0.10948551 0.10504349 0.09335286 0.09936006\n",
      "  0.11380406 0.10084102 0.10253131 0.08974393]\n",
      " [0.10085409 0.10494091 0.09770957 0.10756849 0.09867924 0.10862499\n",
      "  0.09198739 0.09791185 0.10246377 0.08925963]\n",
      " [0.10203105 0.09924183 0.09886435 0.09725659 0.09820215 0.10387976\n",
      "  0.10538515 0.08918154 0.11119761 0.09475991]\n",
      " [0.10253027 0.09195164 0.11412451 0.11690264 0.08853009 0.10402943\n",
      "  0.09055003 0.09997655 0.09333353 0.0980714 ]\n",
      " [0.10344124 0.08143338 0.11377977 0.100499   0.10164449 0.10646782\n",
      "  0.10723742 0.09869292 0.09094477 0.09585931]\n",
      " [0.10722962 0.10329422 0.10926622 0.09803037 0.10007994 0.08861054\n",
      "  0.09772342 0.09565969 0.11077859 0.08932735]\n",
      " [0.09864332 0.09554436 0.1018586  0.1125048  0.10003586 0.09259108\n",
      "  0.0952749  0.09557274 0.10839747 0.09957684]\n",
      " [0.10626197 0.0863372  0.10608351 0.10363418 0.10477068 0.1054142\n",
      "  0.09137213 0.10069054 0.10114192 0.09429368]\n",
      " [0.09641471 0.0832047  0.11550657 0.09879952 0.09435216 0.09870582\n",
      "  0.08932666 0.11841524 0.1053289  0.09994562]\n",
      " [0.09384865 0.10172548 0.11917797 0.10531823 0.08544528 0.09662697\n",
      "  0.10000665 0.10165771 0.10157266 0.0946204 ]\n",
      " [0.09323368 0.09279321 0.11217593 0.09743161 0.10453316 0.08886187\n",
      "  0.10872804 0.10811404 0.10979874 0.08432972]\n",
      " [0.10196282 0.08706889 0.11182097 0.12348083 0.09402149 0.09827708\n",
      "  0.08514075 0.10035824 0.1113421  0.0865268 ]\n",
      " [0.09300192 0.09958745 0.1007817  0.10742875 0.09606536 0.10819539\n",
      "  0.09599546 0.10125837 0.1000872  0.09759834]\n",
      " [0.09594829 0.08494773 0.11174215 0.10729992 0.11071336 0.09539567\n",
      "  0.09490233 0.10413814 0.09423421 0.10067821]\n",
      " [0.09462541 0.08171485 0.11336666 0.09845426 0.09629133 0.10025381\n",
      "  0.11329749 0.10166592 0.10317256 0.09715769]\n",
      " [0.09553098 0.1021679  0.10805789 0.11014692 0.09398647 0.09497354\n",
      "  0.10509199 0.09869295 0.09895654 0.09239487]\n",
      " [0.09994543 0.08636934 0.10794405 0.10131235 0.10592008 0.08901806\n",
      "  0.09863186 0.09648116 0.12543534 0.08894236]\n",
      " [0.09657605 0.10235233 0.09845218 0.11017199 0.10453772 0.10147543\n",
      "  0.09293023 0.0981865  0.10034833 0.09496925]\n",
      " [0.10894079 0.097762   0.11205158 0.11356431 0.10542577 0.09128266\n",
      "  0.0942141  0.08507914 0.09814493 0.09353477]\n",
      " [0.0969504  0.10017984 0.1064132  0.10384353 0.09791002 0.1050592\n",
      "  0.10233673 0.08725023 0.10914078 0.09091604]\n",
      " [0.09815305 0.09827221 0.10153621 0.10225597 0.09676517 0.09935498\n",
      "  0.09963866 0.09673592 0.11187217 0.09541576]\n",
      " [0.10237491 0.08990756 0.09759971 0.12534751 0.0893209  0.09612181\n",
      "  0.09358604 0.10167149 0.11087117 0.09319884]\n",
      " [0.10197266 0.09296845 0.1164463  0.10857151 0.10891586 0.08608361\n",
      "  0.09245896 0.10388351 0.09827957 0.09041959]\n",
      " [0.10825711 0.0891216  0.12976319 0.10190519 0.09124192 0.10073007\n",
      "  0.09721775 0.1039848  0.09517416 0.08260417]\n",
      " [0.10433973 0.09641479 0.12676354 0.10183062 0.09208545 0.09536683\n",
      "  0.09135403 0.09370562 0.10683867 0.09130065]\n",
      " [0.10452374 0.10460612 0.10850421 0.10417411 0.09283035 0.10324884\n",
      "  0.095172   0.10290973 0.0993434  0.08468743]\n",
      " [0.11214394 0.0919031  0.09728584 0.11157031 0.09057605 0.08884006\n",
      "  0.12221955 0.09894861 0.08506895 0.10144367]\n",
      " [0.11034934 0.09087243 0.11062637 0.10681872 0.09850492 0.09711442\n",
      "  0.09297355 0.09552357 0.09936129 0.09785543]\n",
      " [0.10424811 0.09974653 0.11470255 0.0948769  0.09592241 0.09174909\n",
      "  0.09691859 0.08959307 0.10754067 0.10470213]\n",
      " [0.10433107 0.09320798 0.10585113 0.11348841 0.09427298 0.09608647\n",
      "  0.09889956 0.10290421 0.09913933 0.09181871]\n",
      " [0.09500729 0.09052918 0.09979516 0.09750279 0.10080545 0.11713094\n",
      "  0.10297968 0.10251272 0.09852711 0.09520966]\n",
      " [0.11139425 0.08250343 0.12276445 0.10148738 0.10547797 0.09543033\n",
      "  0.08713388 0.10795398 0.10345155 0.0824027 ]\n",
      " [0.1089712  0.08034125 0.11206111 0.11880551 0.09504905 0.0929928\n",
      "  0.09311901 0.10493847 0.10455068 0.08917091]\n",
      " [0.10427012 0.08249138 0.11535403 0.11050577 0.08388623 0.10775532\n",
      "  0.10996938 0.10320373 0.10254612 0.0800179 ]\n",
      " [0.1033534  0.09947668 0.10634896 0.1091403  0.09115547 0.09597608\n",
      "  0.09871495 0.09549844 0.10565836 0.09467742]\n",
      " [0.10375828 0.08603062 0.1150069  0.11306842 0.09765607 0.09619194\n",
      "  0.09573026 0.09018596 0.1119367  0.09043483]\n",
      " [0.10558199 0.09162764 0.11016521 0.10928567 0.09405696 0.09901234\n",
      "  0.10463392 0.09088714 0.1051002  0.089649  ]\n",
      " [0.10845654 0.08849948 0.10267314 0.10942297 0.10675914 0.10280632\n",
      "  0.09188541 0.09883627 0.10685807 0.08380266]\n",
      " [0.10496677 0.08417527 0.10260652 0.1249022  0.08690018 0.10194401\n",
      "  0.09857095 0.09035747 0.10973433 0.09584226]\n",
      " [0.10883189 0.0956217  0.12403981 0.09765413 0.10293984 0.10434613\n",
      "  0.09849012 0.08565754 0.0888915  0.09352742]\n",
      " [0.09359619 0.08953312 0.1247559  0.11108086 0.09359785 0.09949703\n",
      "  0.10321015 0.08630075 0.09862139 0.09980678]\n",
      " [0.10836364 0.07431026 0.10766221 0.1192434  0.08547965 0.109602\n",
      "  0.09879361 0.09999228 0.11102878 0.08552415]\n",
      " [0.09637507 0.09929287 0.10164754 0.10022698 0.10430751 0.10763576\n",
      "  0.11344405 0.10097934 0.10052013 0.07557073]\n",
      " [0.09756006 0.09766466 0.10500265 0.10789898 0.09910031 0.09768732\n",
      "  0.10477829 0.10291875 0.09441779 0.09297106]\n",
      " [0.09673705 0.09084118 0.11264248 0.09921614 0.09429591 0.09224142\n",
      "  0.10804716 0.10184149 0.10005914 0.10407805]\n",
      " [0.09916984 0.09073728 0.10713775 0.09874614 0.10391326 0.0969427\n",
      "  0.09752756 0.1053029  0.09724469 0.10327787]\n",
      " [0.10949228 0.1018039  0.1060539  0.09686388 0.10118607 0.10550681\n",
      "  0.10017547 0.08586001 0.10241654 0.09064119]\n",
      " [0.10019457 0.07707692 0.11361773 0.11402276 0.09499785 0.107772\n",
      "  0.10358813 0.09717893 0.1037299  0.0878212 ]\n",
      " [0.09181345 0.08638081 0.1262917  0.10533079 0.10954918 0.08646329\n",
      "  0.10028075 0.1037082  0.09557174 0.09461002]\n",
      " [0.12012443 0.0876941  0.1084405  0.10891461 0.11030228 0.10260637\n",
      "  0.09132408 0.10412247 0.08677372 0.07969748]\n",
      " [0.10033473 0.10093625 0.10763388 0.09158783 0.09917329 0.10529512\n",
      "  0.11518127 0.08944223 0.09781889 0.09259648]\n",
      " [0.10238901 0.08375639 0.10818398 0.11237866 0.09528981 0.10110111\n",
      "  0.09045142 0.11003051 0.09801546 0.09840374]\n",
      " [0.0990747  0.09856415 0.11924504 0.09903634 0.09988382 0.09302825\n",
      "  0.0964466  0.08566955 0.11162893 0.09742262]\n",
      " [0.1017919  0.09534417 0.10704333 0.10598745 0.09883717 0.10503475\n",
      "  0.09710084 0.09786978 0.09843542 0.09255512]\n",
      " [0.0996217  0.0918387  0.11327469 0.12217209 0.10240705 0.09823986\n",
      "  0.09829521 0.09688768 0.09278741 0.08447556]\n",
      " [0.09620819 0.10018185 0.13016415 0.11327997 0.07713277 0.08709323\n",
      "  0.11441368 0.07849427 0.10643648 0.09659537]\n",
      " [0.1064584  0.09819859 0.1088022  0.10856047 0.09323785 0.09456456\n",
      "  0.09936753 0.10363638 0.09824617 0.0889278 ]\n",
      " [0.10284903 0.09573919 0.10860577 0.10141583 0.11057126 0.09797259\n",
      "  0.09579055 0.08800989 0.10602165 0.09302418]\n",
      " [0.10831732 0.09880859 0.10745446 0.10006854 0.09453066 0.09374598\n",
      "  0.10599592 0.1037522  0.10003085 0.08729552]\n",
      " [0.10026363 0.0898914  0.11032004 0.10864902 0.08558409 0.10274346\n",
      "  0.10196014 0.09917748 0.10374009 0.09767064]\n",
      " [0.09239222 0.10091478 0.10786153 0.10089611 0.1045249  0.10428702\n",
      "  0.10332098 0.08846507 0.10410322 0.09323404]\n",
      " [0.09863758 0.09540965 0.11808325 0.10067157 0.09315386 0.11328781\n",
      "  0.10418235 0.09347437 0.10202926 0.08107028]\n",
      " [0.09839619 0.09260443 0.10374142 0.10225639 0.10759941 0.10067579\n",
      "  0.09680871 0.10524371 0.10001111 0.09266277]\n",
      " [0.09616303 0.09266391 0.11487647 0.09824845 0.09798337 0.10544167\n",
      "  0.098356   0.09896046 0.10328706 0.09401964]\n",
      " [0.10493033 0.08976467 0.10676273 0.10447533 0.10139276 0.0906419\n",
      "  0.09699087 0.10763767 0.09485368 0.10255004]\n",
      " [0.10355145 0.09429237 0.11370713 0.10564663 0.09020704 0.10937873\n",
      "  0.09700135 0.08698004 0.10240835 0.09682692]\n",
      " [0.10349883 0.11118393 0.10877668 0.09412169 0.10741416 0.08456497\n",
      "  0.09255133 0.10326268 0.10221004 0.09241558]\n",
      " [0.10008054 0.10542037 0.11723874 0.11327494 0.09148961 0.08900145\n",
      "  0.09835865 0.09646834 0.11041812 0.0782492 ]\n",
      " [0.10637901 0.09226035 0.11933905 0.09343354 0.09155619 0.09827541\n",
      "  0.10720716 0.09843096 0.10536382 0.08775464]\n",
      " [0.10572834 0.07902014 0.10387829 0.10925061 0.09636296 0.11252972\n",
      "  0.10409542 0.09639745 0.10355272 0.08918438]\n",
      " [0.11971056 0.08138365 0.10162693 0.1093949  0.10167254 0.10819847\n",
      "  0.10255403 0.10109721 0.09055737 0.08380438]\n",
      " [0.10423988 0.0957427  0.1070897  0.10260265 0.08733112 0.11093082\n",
      "  0.09279741 0.09328534 0.11078198 0.09519829]\n",
      " [0.11388681 0.0857221  0.11896606 0.0969701  0.09701753 0.09570847\n",
      "  0.09530216 0.09892628 0.10672902 0.09077144]\n",
      " [0.09710898 0.09899559 0.10997665 0.10756953 0.09490203 0.0956988\n",
      "  0.0971228  0.10591672 0.10520943 0.08749945]\n",
      " [0.10164703 0.09111908 0.1054112  0.11722461 0.09986935 0.09721429\n",
      "  0.09697391 0.10892032 0.09615756 0.08546273]\n",
      " [0.10457769 0.10333654 0.10089076 0.0998615  0.10042442 0.09497251\n",
      "  0.09369029 0.1067275  0.10550231 0.09001654]\n",
      " [0.10436346 0.1018638  0.11245868 0.09649538 0.10112868 0.1045405\n",
      "  0.10496056 0.08457646 0.09958193 0.09003053]\n",
      " [0.10629108 0.08127438 0.12066084 0.09192095 0.09443773 0.10355936\n",
      "  0.09718747 0.10027799 0.10864102 0.09574917]\n",
      " [0.10746253 0.08852325 0.11177751 0.09700206 0.10302854 0.09985341\n",
      "  0.09171647 0.10418262 0.10113738 0.09531622]\n",
      " [0.10419983 0.10331976 0.09961574 0.09809954 0.08457479 0.1140047\n",
      "  0.10167852 0.10256625 0.10655308 0.08538783]\n",
      " [0.10274266 0.09710082 0.10274615 0.10665877 0.0986772  0.09959618\n",
      "  0.08574834 0.10060512 0.11332254 0.09280215]]\n",
      "INFO:tensorflow:loss = 2.2865996, step = 1\n",
      "INFO:tensorflow:Saving checkpoints for 1 into /tmp/mnist_convnet_model\\model.ckpt.\n",
      "INFO:tensorflow:Loss for final step: 2.2865996.\n"
     ]
    },
    {
     "data": {
      "text/plain": [
       "<tensorflow.python.estimator.estimator.Estimator at 0x1b5348b0748>"
      ]
     },
     "execution_count": 7,
     "metadata": {},
     "output_type": "execute_result"
    }
   ],
   "source": [
    "# Train the model\n",
    "train_input_fn = tf.estimator.inputs.numpy_input_fn(\n",
    "    x={\"x\": train_data},\n",
    "    y=train_labels,\n",
    "    batch_size=100,\n",
    "    num_epochs=None,\n",
    "    shuffle=True)\n",
    "\n",
    "# train one step and display the probabilties\n",
    "mnist_classifier.train(\n",
    "    input_fn=train_input_fn,\n",
    "    steps=1,\n",
    "    hooks=[logging_hook])"
   ]
  },
  {
   "cell_type": "markdown",
   "metadata": {
    "colab_type": "text",
    "id": "gyNSE3e-14Lq"
   },
   "source": [
    "Now—without logging each step—set `steps=1000` to train the model longer, but in a reasonable time to run this example. Training CNNs is computationally intensive. To increase the accuracy of your model, increase the number of `steps` passed to `train()`, like 20,000 steps."
   ]
  },
  {
   "cell_type": "code",
   "execution_count": 8,
   "metadata": {
    "colab": {},
    "colab_type": "code",
    "id": "cri6zqcf2IXY"
   },
   "outputs": [
    {
     "name": "stdout",
     "output_type": "stream",
     "text": [
      "INFO:tensorflow:Calling model_fn.\n",
      "INFO:tensorflow:Done calling model_fn.\n",
      "INFO:tensorflow:Create CheckpointSaverHook.\n",
      "INFO:tensorflow:Graph was finalized.\n",
      "INFO:tensorflow:Restoring parameters from /tmp/mnist_convnet_model\\model.ckpt-1\n",
      "INFO:tensorflow:Running local_init_op.\n",
      "INFO:tensorflow:Done running local_init_op.\n",
      "INFO:tensorflow:Saving checkpoints for 1 into /tmp/mnist_convnet_model\\model.ckpt.\n",
      "INFO:tensorflow:loss = 2.2977793, step = 2\n",
      "INFO:tensorflow:global_step/sec: 5.02594\n",
      "INFO:tensorflow:loss = 2.2838187, step = 102 (19.928 sec)\n",
      "INFO:tensorflow:global_step/sec: 5.12448\n",
      "INFO:tensorflow:loss = 2.2560503, step = 202 (19.483 sec)\n",
      "INFO:tensorflow:global_step/sec: 5.10103\n",
      "INFO:tensorflow:loss = 2.2333834, step = 302 (19.604 sec)\n",
      "INFO:tensorflow:global_step/sec: 5.07009\n",
      "INFO:tensorflow:loss = 2.229915, step = 402 (19.724 sec)\n",
      "INFO:tensorflow:global_step/sec: 5.11682\n",
      "INFO:tensorflow:loss = 2.1866543, step = 502 (19.543 sec)\n",
      "INFO:tensorflow:global_step/sec: 5.10774\n",
      "INFO:tensorflow:loss = 2.1423342, step = 602 (19.625 sec)\n",
      "INFO:tensorflow:global_step/sec: 5.08983\n",
      "INFO:tensorflow:loss = 2.10267, step = 702 (19.600 sec)\n",
      "INFO:tensorflow:global_step/sec: 5.13845\n",
      "INFO:tensorflow:loss = 2.0130596, step = 802 (19.477 sec)\n",
      "INFO:tensorflow:global_step/sec: 4.92527\n",
      "INFO:tensorflow:loss = 1.9749523, step = 902 (20.288 sec)\n",
      "INFO:tensorflow:Saving checkpoints for 1001 into /tmp/mnist_convnet_model\\model.ckpt.\n",
      "INFO:tensorflow:Loss for final step: 1.877822.\n"
     ]
    },
    {
     "data": {
      "text/plain": [
       "<tensorflow.python.estimator.estimator.Estimator at 0x1b5348b0748>"
      ]
     },
     "execution_count": 8,
     "metadata": {},
     "output_type": "execute_result"
    }
   ],
   "source": [
    "mnist_classifier.train(input_fn=train_input_fn, steps=1000)"
   ]
  },
  {
   "cell_type": "markdown",
   "metadata": {
    "colab_type": "text",
    "id": "4bQdkLMeUE5U"
   },
   "source": [
    "### Evaluate the Model\n",
    "\n",
    "Once training is complete, we want to evaluate our model to determine its\n",
    "accuracy on the MNIST test set. We call the `evaluate` method, which evaluates\n",
    "the metrics we specified in `eval_metric_ops` argument in the `model_fn`.\n",
    "Add the following to `main()`:"
   ]
  },
  {
   "cell_type": "code",
   "execution_count": 9,
   "metadata": {
    "colab": {},
    "colab_type": "code",
    "id": "I0RGiqd0UF0N"
   },
   "outputs": [
    {
     "name": "stdout",
     "output_type": "stream",
     "text": [
      "INFO:tensorflow:Calling model_fn.\n",
      "INFO:tensorflow:Done calling model_fn.\n",
      "INFO:tensorflow:Starting evaluation at 2020-01-30-10:21:23\n",
      "INFO:tensorflow:Graph was finalized.\n",
      "INFO:tensorflow:Restoring parameters from /tmp/mnist_convnet_model\\model.ckpt-1001\n",
      "INFO:tensorflow:Running local_init_op.\n",
      "INFO:tensorflow:Done running local_init_op.\n",
      "INFO:tensorflow:Finished evaluation at 2020-01-30-10:21:31\n",
      "INFO:tensorflow:Saving dict for global step 1001: accuracy = 0.7489, global_step = 1001, loss = 1.8107228\n",
      "INFO:tensorflow:Saving 'checkpoint_path' summary for global step 1001: /tmp/mnist_convnet_model\\model.ckpt-1001\n",
      "{'accuracy': 0.7489, 'loss': 1.8107228, 'global_step': 1001}\n"
     ]
    }
   ],
   "source": [
    "eval_input_fn = tf.estimator.inputs.numpy_input_fn(\n",
    "    x={\"x\": eval_data},\n",
    "    y=eval_labels,\n",
    "    num_epochs=1,\n",
    "    shuffle=False)\n",
    "\n",
    "eval_results = mnist_classifier.evaluate(input_fn=eval_input_fn)\n",
    "print(eval_results)"
   ]
  },
  {
   "cell_type": "markdown",
   "metadata": {
    "colab_type": "text",
    "id": "JIBVID6dUIXT"
   },
   "source": [
    "To create `eval_input_fn`, we set `num_epochs=1`, so that the model evaluates\n",
    "the metrics over one epoch of data and returns the result. We also set\n",
    "`shuffle=False` to iterate through the data sequentially."
   ]
  },
  {
   "cell_type": "markdown",
   "metadata": {
    "colab_type": "text",
    "id": "htmLZ-zEUZZk"
   },
   "source": [
    "## Additional Resources\n",
    "\n",
    "To learn more about TensorFlow Estimators and CNNs in TensorFlow, see the\n",
    "following resources:\n",
    "\n",
    "*   [Creating Estimators in tf.estimator](../../guide/custom_estimators.md)\n",
    "    provides an introduction to the TensorFlow Estimator API. It walks through\n",
    "    configuring an Estimator, writing a model function, calculating loss, and\n",
    "    defining a training op.\n",
    "*   [Advanced Convolutional Neural Networks](../../tutorials/images/deep_cnn.md) walks through how to build a MNIST CNN classification model\n",
    "    *without estimators* using lower-level TensorFlow operations."
   ]
  }
 ],
 "metadata": {
  "colab": {
   "collapsed_sections": [
    "Tce3stUlHN0L"
   ],
   "name": "cnn.ipynb",
   "private_outputs": true,
   "provenance": []
  },
  "kernelspec": {
   "display_name": "Python 3",
   "language": "python",
   "name": "python3"
  },
  "language_info": {
   "codemirror_mode": {
    "name": "ipython",
    "version": 3
   },
   "file_extension": ".py",
   "mimetype": "text/x-python",
   "name": "python",
   "nbconvert_exporter": "python",
   "pygments_lexer": "ipython3",
   "version": "3.7.6"
  }
 },
 "nbformat": 4,
 "nbformat_minor": 1
}
